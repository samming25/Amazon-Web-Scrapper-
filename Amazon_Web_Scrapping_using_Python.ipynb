{
  "nbformat": 4,
  "nbformat_minor": 0,
  "metadata": {
    "colab": {
      "provenance": []
    },
    "kernelspec": {
      "name": "python3",
      "display_name": "Python 3"
    },
    "language_info": {
      "name": "python"
    }
  },
  "cells": [
    {
      "cell_type": "markdown",
      "source": [
        "#Import Libraries"
      ],
      "metadata": {
        "id": "xB2iWHpqxoZY"
      }
    },
    {
      "cell_type": "code",
      "source": [
        "from bs4 import BeautifulSoup\n",
        "import requests\n",
        "import smtplib\n",
        "import time\n",
        "import datetime\n"
      ],
      "metadata": {
        "id": "c2LsCHCWxsLI"
      },
      "execution_count": null,
      "outputs": []
    },
    {
      "cell_type": "code",
      "source": [
        "URL='https://www.amazon.in/Fastrack-Smartwatch-Display-Resistance-life-38072AP02/dp/B09QKL7BM6/ref=pd_ci_mcx_mh_mcx_views_0?pd_rd_w=wv8Go&content-id=amzn1.sym.cd312cd6-6969-4220-8ac7-6dc7c0447352&pf_rd_p=cd312cd6-6969-4220-8ac7-6dc7c0447352&pf_rd_r=BQH64XR8SFZRKPCF1KS7&pd_rd_wg=HFgFX&pd_rd_r=352c3a38-98f0-40cf-b6da-72a0f6fb3d2e&pd_rd_i=B09QKL7BM6'\n",
        "\n",
        "\n",
        "headers = {\"User-Agent\": \"Mozilla/5.0 (Windows NT 10.0; Win64; x64) AppleWebKit/537.36 (KHTML, like Gecko) Chrome/78.0.3904.108 Safari/537.36\", \"Accept-Encoding\":\"gzip, deflate\", \"Accept\":\"text/html,application/xhtml+xml,application/xml;q=0.9,*/*;q=0.8\", \"DNT\":\"1\",\"Connection\":\"close\", \"Upgrade-Insecure-Requests\":\"1\"}\n",
        "\n",
        "page=requests.get(URL,headers=headers)\n",
        "\n",
        "soup1 =BeautifulSoup(page.content,\"html.parser\")\n",
        "\n",
        "soup2= BeautifulSoup(soup1.prettify(),\"html.parser\")\n",
        "\n",
        "\n",
        "title = soup2.find(id='productTitle').get_text()\n",
        "price = soup2.find(class_='a-price-whole').get_text()\n",
        "\n",
        "print(title)\n",
        "print(price)\n",
        "\n",
        "\n",
        "\n"
      ],
      "metadata": {
        "colab": {
          "base_uri": "https://localhost:8080/"
        },
        "id": "-fDETQAFx1rE",
        "outputId": "bb6a7951-59d4-41d4-fbb6-f57879d0d910"
      },
      "execution_count": null,
      "outputs": [
        {
          "output_type": "stream",
          "name": "stdout",
          "text": [
            "\n",
            "                   Fastrack Reflex Vox Smartwatch|Alexa Built-in|Bright HD Display|Upto 10 Days Battery|5 ATM Water Resistance|Multiple Sports Modes|100+ Watchfaces|24x7 HRM|Sp02|Stress Monitor|Camera & Music Control\n",
            "                  \n",
            "\n",
            "                   1,995\n",
            "                  \n"
          ]
        }
      ]
    },
    {
      "cell_type": "code",
      "source": [
        "title = title.strip()\n",
        "price = price.strip()\n",
        "\n",
        "print(title)\n",
        "print(price)\n",
        "#type(price)"
      ],
      "metadata": {
        "colab": {
          "base_uri": "https://localhost:8080/"
        },
        "id": "9DqGZ-Tc5mHL",
        "outputId": "1ec1b3fb-896f-43cb-b631-d3445c5658a9"
      },
      "execution_count": null,
      "outputs": [
        {
          "output_type": "stream",
          "name": "stdout",
          "text": [
            "Fastrack Reflex Vox Smartwatch|Alexa Built-in|Bright HD Display|Upto 10 Days Battery|5 ATM Water Resistance|Multiple Sports Modes|100+ Watchfaces|24x7 HRM|Sp02|Stress Monitor|Camera & Music Control\n",
            "1,995\n"
          ]
        }
      ]
    },
    {
      "cell_type": "code",
      "source": [
        "today =datetime.date.today()\n",
        "print(today)"
      ],
      "metadata": {
        "colab": {
          "base_uri": "https://localhost:8080/"
        },
        "id": "VcnQqRFpAp8v",
        "outputId": "d357386a-a1ec-473b-f76c-d3cf340f24f2"
      },
      "execution_count": null,
      "outputs": [
        {
          "output_type": "stream",
          "name": "stdout",
          "text": [
            "2023-06-15\n"
          ]
        }
      ]
    },
    {
      "cell_type": "code",
      "source": [
        "import csv\n",
        "\n",
        "header=['Title','Price','Date']\n",
        "\n",
        "data =[title,price,today]\n",
        "\n",
        "# type(data)\n",
        "\n",
        "# with open('Amazon Web Scrapper.csv','w',newline='',encoding='UTF8') as f:\n",
        "#   writer = csv.writer(f)\n",
        "#   writer.writerow(header)\n",
        "#   writer.writerow(data)\n",
        "\n"
      ],
      "metadata": {
        "id": "aBfP_XRz9oiG"
      },
      "execution_count": null,
      "outputs": []
    },
    {
      "cell_type": "code",
      "source": [
        "import pandas as pd\n",
        "\n",
        "df=pd.read_csv('/content/Amazon Web Scrapper.csv')\n",
        "\n",
        "df.head()\n"
      ],
      "metadata": {
        "colab": {
          "base_uri": "https://localhost:8080/",
          "height": 175
        },
        "id": "xQBDTzj_935Z",
        "outputId": "8d29346c-ea01-42cf-cb0a-6329ed9e65e8"
      },
      "execution_count": null,
      "outputs": [
        {
          "output_type": "execute_result",
          "data": {
            "text/plain": [
              "                                               Title  Price        Date\n",
              "0  Fastrack Reflex Vox Smartwatch|Alexa Built-in|...  1,995  2023-06-15\n",
              "1  Fastrack Reflex Vox Smartwatch|Alexa Built-in|...  1,995  2023-06-15\n",
              "2  Fastrack Reflex Vox Smartwatch|Alexa Built-in|...  1,995  2023-06-15\n",
              "3  Fastrack Reflex Vox Smartwatch|Alexa Built-in|...  1,995  2023-06-15"
            ],
            "text/html": [
              "\n",
              "  <div id=\"df-5463ab8d-86bc-45f8-8418-48c2fc5b1fc2\">\n",
              "    <div class=\"colab-df-container\">\n",
              "      <div>\n",
              "<style scoped>\n",
              "    .dataframe tbody tr th:only-of-type {\n",
              "        vertical-align: middle;\n",
              "    }\n",
              "\n",
              "    .dataframe tbody tr th {\n",
              "        vertical-align: top;\n",
              "    }\n",
              "\n",
              "    .dataframe thead th {\n",
              "        text-align: right;\n",
              "    }\n",
              "</style>\n",
              "<table border=\"1\" class=\"dataframe\">\n",
              "  <thead>\n",
              "    <tr style=\"text-align: right;\">\n",
              "      <th></th>\n",
              "      <th>Title</th>\n",
              "      <th>Price</th>\n",
              "      <th>Date</th>\n",
              "    </tr>\n",
              "  </thead>\n",
              "  <tbody>\n",
              "    <tr>\n",
              "      <th>0</th>\n",
              "      <td>Fastrack Reflex Vox Smartwatch|Alexa Built-in|...</td>\n",
              "      <td>1,995</td>\n",
              "      <td>2023-06-15</td>\n",
              "    </tr>\n",
              "    <tr>\n",
              "      <th>1</th>\n",
              "      <td>Fastrack Reflex Vox Smartwatch|Alexa Built-in|...</td>\n",
              "      <td>1,995</td>\n",
              "      <td>2023-06-15</td>\n",
              "    </tr>\n",
              "    <tr>\n",
              "      <th>2</th>\n",
              "      <td>Fastrack Reflex Vox Smartwatch|Alexa Built-in|...</td>\n",
              "      <td>1,995</td>\n",
              "      <td>2023-06-15</td>\n",
              "    </tr>\n",
              "    <tr>\n",
              "      <th>3</th>\n",
              "      <td>Fastrack Reflex Vox Smartwatch|Alexa Built-in|...</td>\n",
              "      <td>1,995</td>\n",
              "      <td>2023-06-15</td>\n",
              "    </tr>\n",
              "  </tbody>\n",
              "</table>\n",
              "</div>\n",
              "      <button class=\"colab-df-convert\" onclick=\"convertToInteractive('df-5463ab8d-86bc-45f8-8418-48c2fc5b1fc2')\"\n",
              "              title=\"Convert this dataframe to an interactive table.\"\n",
              "              style=\"display:none;\">\n",
              "        \n",
              "  <svg xmlns=\"http://www.w3.org/2000/svg\" height=\"24px\"viewBox=\"0 0 24 24\"\n",
              "       width=\"24px\">\n",
              "    <path d=\"M0 0h24v24H0V0z\" fill=\"none\"/>\n",
              "    <path d=\"M18.56 5.44l.94 2.06.94-2.06 2.06-.94-2.06-.94-.94-2.06-.94 2.06-2.06.94zm-11 1L8.5 8.5l.94-2.06 2.06-.94-2.06-.94L8.5 2.5l-.94 2.06-2.06.94zm10 10l.94 2.06.94-2.06 2.06-.94-2.06-.94-.94-2.06-.94 2.06-2.06.94z\"/><path d=\"M17.41 7.96l-1.37-1.37c-.4-.4-.92-.59-1.43-.59-.52 0-1.04.2-1.43.59L10.3 9.45l-7.72 7.72c-.78.78-.78 2.05 0 2.83L4 21.41c.39.39.9.59 1.41.59.51 0 1.02-.2 1.41-.59l7.78-7.78 2.81-2.81c.8-.78.8-2.07 0-2.86zM5.41 20L4 18.59l7.72-7.72 1.47 1.35L5.41 20z\"/>\n",
              "  </svg>\n",
              "      </button>\n",
              "      \n",
              "  <style>\n",
              "    .colab-df-container {\n",
              "      display:flex;\n",
              "      flex-wrap:wrap;\n",
              "      gap: 12px;\n",
              "    }\n",
              "\n",
              "    .colab-df-convert {\n",
              "      background-color: #E8F0FE;\n",
              "      border: none;\n",
              "      border-radius: 50%;\n",
              "      cursor: pointer;\n",
              "      display: none;\n",
              "      fill: #1967D2;\n",
              "      height: 32px;\n",
              "      padding: 0 0 0 0;\n",
              "      width: 32px;\n",
              "    }\n",
              "\n",
              "    .colab-df-convert:hover {\n",
              "      background-color: #E2EBFA;\n",
              "      box-shadow: 0px 1px 2px rgba(60, 64, 67, 0.3), 0px 1px 3px 1px rgba(60, 64, 67, 0.15);\n",
              "      fill: #174EA6;\n",
              "    }\n",
              "\n",
              "    [theme=dark] .colab-df-convert {\n",
              "      background-color: #3B4455;\n",
              "      fill: #D2E3FC;\n",
              "    }\n",
              "\n",
              "    [theme=dark] .colab-df-convert:hover {\n",
              "      background-color: #434B5C;\n",
              "      box-shadow: 0px 1px 3px 1px rgba(0, 0, 0, 0.15);\n",
              "      filter: drop-shadow(0px 1px 2px rgba(0, 0, 0, 0.3));\n",
              "      fill: #FFFFFF;\n",
              "    }\n",
              "  </style>\n",
              "\n",
              "      <script>\n",
              "        const buttonEl =\n",
              "          document.querySelector('#df-5463ab8d-86bc-45f8-8418-48c2fc5b1fc2 button.colab-df-convert');\n",
              "        buttonEl.style.display =\n",
              "          google.colab.kernel.accessAllowed ? 'block' : 'none';\n",
              "\n",
              "        async function convertToInteractive(key) {\n",
              "          const element = document.querySelector('#df-5463ab8d-86bc-45f8-8418-48c2fc5b1fc2');\n",
              "          const dataTable =\n",
              "            await google.colab.kernel.invokeFunction('convertToInteractive',\n",
              "                                                     [key], {});\n",
              "          if (!dataTable) return;\n",
              "\n",
              "          const docLinkHtml = 'Like what you see? Visit the ' +\n",
              "            '<a target=\"_blank\" href=https://colab.research.google.com/notebooks/data_table.ipynb>data table notebook</a>'\n",
              "            + ' to learn more about interactive tables.';\n",
              "          element.innerHTML = '';\n",
              "          dataTable['output_type'] = 'display_data';\n",
              "          await google.colab.output.renderOutput(dataTable, element);\n",
              "          const docLink = document.createElement('div');\n",
              "          docLink.innerHTML = docLinkHtml;\n",
              "          element.appendChild(docLink);\n",
              "        }\n",
              "      </script>\n",
              "    </div>\n",
              "  </div>\n",
              "  "
            ]
          },
          "metadata": {},
          "execution_count": 32
        }
      ]
    },
    {
      "cell_type": "markdown",
      "source": [
        "# Now we are appending data to csv"
      ],
      "metadata": {
        "id": "D3axsqTEBWU6"
      }
    },
    {
      "cell_type": "code",
      "source": [
        "with open('Amazon Web Scrapper.csv','a+',newline='',encoding='UTF8') as f:\n",
        "  writer = csv.writer(f)\n",
        "  writer.writerow(data)"
      ],
      "metadata": {
        "id": "ILupNmTMAiin"
      },
      "execution_count": null,
      "outputs": []
    },
    {
      "cell_type": "markdown",
      "source": [
        "#Automating all the things\n"
      ],
      "metadata": {
        "id": "ow88e9CoDCK8"
      }
    },
    {
      "cell_type": "code",
      "source": [
        "def check_price():\n",
        "  URL='https://www.amazon.in/Fastrack-Smartwatch-Display-Resistance-life-38072AP02/dp/B09QKL7BM6/ref=pd_ci_mcx_mh_mcx_views_0?pd_rd_w=wv8Go&content-id=amzn1.sym.cd312cd6-6969-4220-8ac7-6dc7c0447352&pf_rd_p=cd312cd6-6969-4220-8ac7-6dc7c0447352&pf_rd_r=BQH64XR8SFZRKPCF1KS7&pd_rd_wg=HFgFX&pd_rd_r=352c3a38-98f0-40cf-b6da-72a0f6fb3d2e&pd_rd_i=B09QKL7BM6'\n",
        "\n",
        "\n",
        "  headers = {\"User-Agent\": \"Mozilla/5.0 (Windows NT 10.0; Win64; x64) AppleWebKit/537.36 (KHTML, like Gecko) Chrome/78.0.3904.108 Safari/537.36\", \"Accept-Encoding\":\"gzip, deflate\", \"Accept\":\"text/html,application/xhtml+xml,application/xml;q=0.9,*/*;q=0.8\", \"DNT\":\"1\",\"Connection\":\"close\", \"Upgrade-Insecure-Requests\":\"1\"}\n",
        "  page=requests.get(URL,headers=headers)\n",
        "  soup1 =BeautifulSoup(page.content,\"html.parser\")\n",
        "  soup2= BeautifulSoup(soup1.prettify(),\"html.parser\")\n",
        "  title = soup2.find(id='productTitle').get_text()\n",
        "  price = soup2.find(class_='a-price-whole').get_text()\n",
        "  title = title.strip()\n",
        "  price = price.strip()\n",
        "\n",
        "  print(title)\n",
        "  print(price)\n",
        "  today =datetime.date.today()\n",
        "  print(today)\n",
        "  import csv\n",
        "\n",
        "  header=['Title','Price','Date']\n",
        "  data =[title,price,today]\n",
        "\n",
        "  with open('Amazon Web Scrapper.csv','w',newline='',encoding='UTF8') as f:\n",
        "    writer = csv.writer(f)\n",
        "   # writer.writerow(header)\n",
        "    writer.writerow(data)\n",
        "\n",
        "  if(price<2000):\n",
        "    send_mail()\n"
      ],
      "metadata": {
        "id": "uLKT8ZCXBn51"
      },
      "execution_count": null,
      "outputs": []
    },
    {
      "cell_type": "code",
      "source": [
        "while(True):\n",
        "  check_price()\n",
        "  time.sleep(86400)"
      ],
      "metadata": {
        "colab": {
          "base_uri": "https://localhost:8080/",
          "height": 262
        },
        "id": "XAN6vp9ODHs6",
        "outputId": "912ce210-3a4c-4526-9817-bd2f2e99fddc"
      },
      "execution_count": null,
      "outputs": [
        {
          "output_type": "stream",
          "name": "stdout",
          "text": [
            "Fastrack Reflex Vox Smartwatch|Alexa Built-in|Bright HD Display|Upto 10 Days Battery|5 ATM Water Resistance|Multiple Sports Modes|100+ Watchfaces|24x7 HRM|Sp02|Stress Monitor|Camera & Music Control\n",
            "1,995\n",
            "2023-06-15\n"
          ]
        },
        {
          "output_type": "error",
          "ename": "KeyboardInterrupt",
          "evalue": "ignored",
          "traceback": [
            "\u001b[0;31m---------------------------------------------------------------------------\u001b[0m",
            "\u001b[0;31mKeyboardInterrupt\u001b[0m                         Traceback (most recent call last)",
            "\u001b[0;32m<ipython-input-42-835c9629c5b9>\u001b[0m in \u001b[0;36m<cell line: 1>\u001b[0;34m()\u001b[0m\n\u001b[1;32m      1\u001b[0m \u001b[0;32mwhile\u001b[0m\u001b[0;34m(\u001b[0m\u001b[0;32mTrue\u001b[0m\u001b[0;34m)\u001b[0m\u001b[0;34m:\u001b[0m\u001b[0;34m\u001b[0m\u001b[0;34m\u001b[0m\u001b[0m\n\u001b[1;32m      2\u001b[0m   \u001b[0mcheck_price\u001b[0m\u001b[0;34m(\u001b[0m\u001b[0;34m)\u001b[0m\u001b[0;34m\u001b[0m\u001b[0;34m\u001b[0m\u001b[0m\n\u001b[0;32m----> 3\u001b[0;31m   \u001b[0mtime\u001b[0m\u001b[0;34m.\u001b[0m\u001b[0msleep\u001b[0m\u001b[0;34m(\u001b[0m\u001b[0;36m86400\u001b[0m\u001b[0;34m)\u001b[0m\u001b[0;34m\u001b[0m\u001b[0;34m\u001b[0m\u001b[0m\n\u001b[0m",
            "\u001b[0;31mKeyboardInterrupt\u001b[0m: "
          ]
        }
      ]
    },
    {
      "cell_type": "code",
      "source": [
        "import pandas as pd\n",
        "\n",
        "df=pd.read_csv('/content/Amazon Web Scrapper.csv')\n",
        "\n",
        "print(df)"
      ],
      "metadata": {
        "colab": {
          "base_uri": "https://localhost:8080/"
        },
        "id": "XKKZ_QDfEK9H",
        "outputId": "a0485f11-ed83-4ef4-933a-659ce1df1a63"
      },
      "execution_count": null,
      "outputs": [
        {
          "output_type": "stream",
          "name": "stdout",
          "text": [
            "                                               Title  Price        Date\n",
            "0  Fastrack Reflex Vox Smartwatch|Alexa Built-in|...  1,995  2023-06-15\n"
          ]
        }
      ]
    },
    {
      "cell_type": "markdown",
      "source": [
        "# If you want to try sending yourself an email (just for fun) when a price hits below a certain level you can try it\n",
        "# out with this script"
      ],
      "metadata": {
        "id": "GNl9a8QvHlcJ"
      }
    },
    {
      "cell_type": "code",
      "source": [
        "def send_mail():\n",
        "  server=smtplib.SMTP_SSL('smtp.gmail.com',456)\n",
        "  server.ehlo()\n",
        "  #server.starttis()\n",
        "  server.ehlo()\n",
        "  server.login('1bi20cs153@bit-bangalore.edu.in','xxxxxxxxxxxxxxxxx')\n",
        "\n",
        "  subject = \"The Watch you want is below 1900! Now is your Chance to buy!!\"\n",
        "  body=\"Sam , This is the moment we have been waiting for. Now is your chance to pick up the watch of your dreams!! Dont miss it up Click Here : https://www.amazon.in/Fastrack-Smartwatch-Display-Resistance-life-38072AP02/dp/B09QKL7BM6/ref=pd_ci_mcx_mh_mcx_views_0?pd_rd_w=wv8Go&content-id=amzn1.sym.cd312cd6-6969-4220-8ac7-6dc7c0447352&pf_rd_p=cd312cd6-6969-4220-8ac7-6dc7c0447352&pf_rd_r=BQH64XR8SFZRKPCF1KS7&pd_rd_wg=HFgFX&pd_rd_r=352c3a38-98f0-40cf-b6da-72a0f6fb3d2e&pd_rd_i=B09QKL7BM6\"\n",
        "\n",
        "  msg=f\"Subject : {subject}\\n\\n{body}\"\n",
        "\n",
        "  server.sendmail(\n",
        "      '1bi20cs153@bit-bangalore.edu.in',\n",
        "      msg\n",
        "  )"
      ],
      "metadata": {
        "id": "9Pu5o27wFOQU"
      },
      "execution_count": null,
      "outputs": []
    },
    {
      "cell_type": "code",
      "source": [],
      "metadata": {
        "id": "ZcQnMyYPJPiI"
      },
      "execution_count": null,
      "outputs": []
    }
  ]
}